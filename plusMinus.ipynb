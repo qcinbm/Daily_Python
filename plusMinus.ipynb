{
 "cells": [
  {
   "cell_type": "markdown",
   "metadata": {},
   "source": [
    "Function Description\n",
    "Complete the plusMinus function in the editor below.\n",
    "plusMinus has the following parameter(s):\n",
    "int arr[n]: an array of integers\n",
    "Print\n",
    "Print the ratios of positive, negative and zero values in the array. Each value should be printed on a separate line with  digits after the decimal. The function should not return a value.\n",
    "Input Format\n",
    "The first line contains an integer, , the size of the array.\n",
    "The second line contains  space-separated integers that describe .\n",
    "Constraints\n",
    "\n",
    "\n",
    "Output Format\n",
    "Print the following  lines, each to  decimals:\n",
    "proportion of positive values\n",
    "proportion of negative values\n",
    "proportion of zeros"
   ]
  },
  {
   "cell_type": "code",
   "execution_count": null,
   "metadata": {},
   "outputs": [],
   "source": [
    "def plusMinus(arr):\n",
    "    # Write your code here\n",
    "    count = 0\n",
    "    for i in range(len(arr)):\n",
    "        if arr[i]>0:\n",
    "            arr[i] = 1\n",
    "        elif arr[i]==0:\n",
    "            count = count +1\n",
    "        else:\n",
    "            arr[i] = 0\n",
    "    print(sum(arr)/len(arr))\n",
    "    print((len(arr)-sum(arr)-count)/len(arr))\n",
    "    print(count/len(arr))\n",
    "    \n",
    "\n",
    "if __name__ == '__main__':\n",
    "    n = int(input().strip())\n",
    "\n",
    "    arr = list(map(int, input().rstrip().split()))\n",
    "\n",
    "    plusMinus(arr)\n"
   ]
  }
 ],
 "metadata": {
  "language_info": {
   "name": "python"
  }
 },
 "nbformat": 4,
 "nbformat_minor": 2
}
