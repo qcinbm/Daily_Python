{
 "cells": [
  {
   "cell_type": "markdown",
   "metadata": {},
   "source": []
  },
  {
   "cell_type": "code",
   "execution_count": 7,
   "metadata": {},
   "outputs": [],
   "source": [
    "class ListNode:\n",
    "    def __init__(self, val=0, next=None):\n",
    "        self.val = val\n",
    "        self.next = next\n",
    "\n",
    "def addTwoNumbers(l1: ListNode, l2: ListNode) -> ListNode:\n",
    "    dummy_head = ListNode(0)\n",
    "    current = dummy_head\n",
    "    carry = 0\n",
    "\n",
    "    while l1 or l2:\n",
    "        val1 = l1.val if l1 else 0\n",
    "        val2 = l2.val if l2 else 0\n",
    "\n",
    "        # Sum and carry\n",
    "        total = val1 + val2 + carry\n",
    "        carry = total // 10\n",
    "        current.next = ListNode(total % 10)\n",
    "\n",
    "        # Move pointers\n",
    "        current = current.next\n",
    "        if l1: l1 = l1.next\n",
    "        if l2: l2 = l2.next\n",
    "\n",
    "    # If there's a carry left\n",
    "    if carry > 0:\n",
    "        current.next = ListNode(carry)\n",
    "\n",
    "    return dummy_head.next"
   ]
  },
  {
   "cell_type": "code",
   "execution_count": 8,
   "metadata": {},
   "outputs": [
    {
     "name": "stdout",
     "output_type": "stream",
     "text": [
      "All test cases passed!\n"
     ]
    }
   ],
   "source": [
    "# Helper functions to convert between list and linked list\n",
    "def list_to_linked_list(numbers):\n",
    "    \"\"\"Convert a list of integers to a linked list.\"\"\"\n",
    "    dummy_head = ListNode(0)\n",
    "    current = dummy_head\n",
    "    for number in numbers:\n",
    "        current.next = ListNode(number)\n",
    "        current = current.next\n",
    "    return dummy_head.next\n",
    "\n",
    "def linked_list_to_list(node):\n",
    "    \"\"\"Convert a linked list to a list of integers.\"\"\"\n",
    "    result = []\n",
    "    while node:\n",
    "        result.append(node.val)\n",
    "        node = node.next\n",
    "    return result\n",
    "\n",
    "def test_add_two_numbers():\n",
    "    \"\"\"Test the addTwoNumbers function with multiple test cases.\"\"\"\n",
    "    test_cases = [\n",
    "        {\"l1\": [2, 4, 3], \"l2\": [5, 6, 4], \"expected\": [7, 0, 8]},\n",
    "        {\"l1\": [0], \"l2\": [0], \"expected\": [0]},\n",
    "        {\"l1\": [9, 9, 9], \"l2\": [1], \"expected\": [0, 0, 0, 1]},\n",
    "        {\"l1\": [1, 8], \"l2\": [0], \"expected\": [1, 8]},\n",
    "        {\"l1\": [0], \"l2\": [1, 2, 3], \"expected\": [1, 2, 3]},\n",
    "    ]\n",
    "\n",
    "    for i, test_case in enumerate(test_cases):\n",
    "        # Convert input lists to linked lists\n",
    "        l1 = list_to_linked_list(test_case[\"l1\"])\n",
    "        l2 = list_to_linked_list(test_case[\"l2\"])\n",
    "        \n",
    "        # Execute the function\n",
    "        result = addTwoNumbers(l1, l2)\n",
    "        \n",
    "        # Convert the result linked list back to a list\n",
    "        result_list = linked_list_to_list(result)\n",
    "        \n",
    "        # Compare the result with the expected output\n",
    "        assert result_list == test_case[\"expected\"], f\"Test case {i+1} failed: {result_list} != {test_case['expected']}\"\n",
    "    \n",
    "    print(\"All test cases passed!\")\n",
    "\n",
    "# Run the test function\n",
    "test_add_two_numbers()"
   ]
  }
 ],
 "metadata": {
  "kernelspec": {
   "display_name": "awesome-env",
   "language": "python",
   "name": "python3"
  },
  "language_info": {
   "codemirror_mode": {
    "name": "ipython",
    "version": 3
   },
   "file_extension": ".py",
   "mimetype": "text/x-python",
   "name": "python",
   "nbconvert_exporter": "python",
   "pygments_lexer": "ipython3",
   "version": "3.11.10"
  }
 },
 "nbformat": 4,
 "nbformat_minor": 2
}
