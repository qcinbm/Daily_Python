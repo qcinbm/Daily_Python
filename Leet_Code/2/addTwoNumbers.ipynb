{
 "cells": [
  {
   "cell_type": "markdown",
   "metadata": {},
   "source": [
    "## Understand the problem\n"
   ]
  },
  {
   "cell_type": "markdown",
   "metadata": {},
   "source": [
    "### **Input**\n",
    "- Two linked lists `l1` and `l2` representing two non-negative integers.\n",
    "  - Each linked list node contains a single digit.\n",
    "  - The digits are stored in **reverse order**, i.e., the least significant digit comes first.\n",
    "\n",
    "### **Output**\n",
    "- A linked list representing the sum of the two input numbers.\n",
    "  - The result should also be in reverse order.\n",
    "  - Each node of the output linked list contains a single digit.\n",
    "\n",
    "### **Key Constraints**\n",
    "1. Both `l1` and `l2` contain digits in the range `[0, 9]`.\n",
    "2. The length of `l1` and `l2` can vary but at least one node is guaranteed in each list.\n",
    "3. The result may contain an additional node if there is a carry from the final sum.\n",
    "4. The input lists may differ in length."
   ]
  },
  {
   "cell_type": "markdown",
   "metadata": {},
   "source": [
    "## Plan the Solution"
   ]
  },
  {
   "cell_type": "markdown",
   "metadata": {},
   "source": [
    "### **Step 1: Traverse Both Linked Lists**\n",
    "- Use two pointers, `p1` and `p2`, to traverse through `l1` and `l2` respectively.\n",
    "- At each step:\n",
    "  - Retrieve the current digit from each list (`val1` and `val2`).\n",
    "  - If one list is shorter, assume the missing value is `0`.\n",
    "\n",
    "### **Step 2: Compute Sum and Handle Carry**\n",
    "- For each pair of digits and the carry from the previous step:\n",
    "  - Calculate the total: `total = val1 + val2 + carry`.\n",
    "  - Determine the new digit to store in the result: `new_digit = total % 10`.\n",
    "  - Update the carry for the next step: `carry = total // 10`.\n",
    "\n",
    "### **Step 3: Build the Result Linked List**\n",
    "- Append a new node with the value `new_digit` to the result linked list.\n",
    "- Move the pointer for the result list forward to prepare for the next digit.\n",
    "\n",
    "### **Step 4: Handle Remaining Carry**\n",
    "- After traversing both lists, if a carry remains, append it as a new node in the result linked list.\n",
    "\n",
    "### **Step 5: Return the Result**\n",
    "- Return the next node of the dummy head, which is the head of the resulting linked list."
   ]
  },
  {
   "cell_type": "markdown",
   "metadata": {},
   "source": [
    "## Step 3: Pseudocode\n",
    "\n",
    "```plaintext\n",
    "1. Create a dummy head node for the result linked list.\n",
    "2. Initialize a pointer `current` to the dummy head.\n",
    "3. Initialize a variable `carry` to 0.\n",
    "\n",
    "4. While either `l1` or `l2` is not null:\n",
    "   a. Get the current values:\n",
    "      - val1 = l1.val if l1 is not null, otherwise 0.\n",
    "      - val2 = l2.val if l2 is not null, otherwise 0.\n",
    "   b. Calculate the total sum:\n",
    "      - total = val1 + val2 + carry.\n",
    "   c. Update the carry for the next step:\n",
    "      - carry = total // 10.\n",
    "   d. Create a new node with the value:\n",
    "      - new_digit = total % 10.\n",
    "   e. Append the new node to the result linked list:\n",
    "      - current.next = new ListNode(new_digit).\n",
    "   f. Move the pointer `current` to the new node.\n",
    "   g. Move `l1` and `l2` to their next nodes if they are not null.\n",
    "\n",
    "5. After the loop, check if there is any remaining carry:\n",
    "   a. If carry > 0, create a new node with the value of carry and append it to the result list.\n",
    "\n",
    "6. Return the next node of the dummy head, which is the head of the result linked list."
   ]
  },
  {
   "cell_type": "markdown",
   "metadata": {},
   "source": [
    "## Implement"
   ]
  },
  {
   "cell_type": "code",
   "execution_count": null,
   "metadata": {},
   "outputs": [],
   "source": [
    "class ListNode:\n",
    "    def __init__(self, val=0, next=None):\n",
    "        self.val = val\n",
    "        self.next = next\n",
    "\n",
    "def addTwoNumbers(l1: ListNode, l2: ListNode) -> ListNode:\n",
    "    dummy_head = ListNode(0)\n",
    "    current = dummy_head\n",
    "    carry = 0\n",
    "\n",
    "    while l1 or l2:\n",
    "        val1 = l1.val if l1 else 0\n",
    "        val2 = l2.val if l2 else 0\n",
    "\n",
    "        # Sum and carry\n",
    "        total = val1 + val2 + carry\n",
    "        carry = total // 10\n",
    "        current.next = ListNode(total % 10)\n",
    "\n",
    "        # Move pointers\n",
    "        current = current.next\n",
    "        if l1: l1 = l1.next\n",
    "        if l2: l2 = l2.next\n",
    "\n",
    "    # If there's a carry left\n",
    "    if carry > 0:\n",
    "        current.next = ListNode(carry)\n",
    "\n",
    "    return dummy_head.next"
   ]
  },
  {
   "cell_type": "markdown",
   "metadata": {},
   "source": [
    "## Testing the `addTwoNumbers` Function\n",
    "\n",
    "The `test_add_two_numbers` function is designed to validate the correctness of the `addTwoNumbers` implementation by using multiple test cases. It ensures that the function correctly handles various edge cases and typical scenarios."
   ]
  },
  {
   "cell_type": "markdown",
   "metadata": {},
   "source": [
    "### **Description**\n",
    "1. **Test Cases:**\n",
    "   - A set of predefined test cases is used, each containing:\n",
    "     - Two input lists `l1` and `l2` representing the numbers to be added.\n",
    "     - The `expected` result, which is the sum of the two numbers as a list.\n",
    "   - Examples of test cases:\n",
    "     - `l1 = [2, 4, 3]`, `l2 = [5, 6, 4]` → `expected = [7, 0, 8]`.\n",
    "     - `l1 = [9, 9, 9]`, `l2 = [1]` → `expected = [0, 0, 0, 1]`.\n",
    "\n",
    "2. **Helper Functions:**\n",
    "   - **`list_to_linked_list(numbers)`**: Converts a Python list to a linked list to match the input format of `addTwoNumbers`.\n",
    "   - **`linked_list_to_list(node)`**: Converts the resulting linked list from `addTwoNumbers` back to a Python list for easy comparison.\n",
    "\n",
    "3. **Testing Process:**\n",
    "   - For each test case:\n",
    "     1. Convert the input lists to linked lists using `list_to_linked_list`.\n",
    "     2. Execute the `addTwoNumbers` function.\n",
    "     3. Convert the result back to a list using `linked_list_to_list`.\n",
    "     4. Compare the result list with the `expected` output using an `assert` statement.\n",
    "   - If any test case fails, the function will raise an `AssertionError` with details about the mismatch.\n",
    "   - If all test cases pass, it prints: **\"All test cases passed!\"**\n",
    "\n",
    "### **Output**\n",
    "- Success: Prints \"All test cases passed!\".\n",
    "- Failure: Raises an `AssertionError` indicating the failed test case and the mismatched values.\n",
    "\n",
    "### **Benefits**\n",
    "- Comprehensive testing ensures edge cases like:\n",
    "  - Lists of different lengths.\n",
    "  - Resulting sums that include carry-over.\n",
    "  - Lists with zeros or minimal inputs.\n",
    "- Easily extendable with new test cases by adding entries to the `test_cases` list.\n",
    "\n",
    "### **Usage**\n",
    "Simply call the `test_add_two_numbers()` function to validate the implementation of `addTwoNumbers`."
   ]
  },
  {
   "cell_type": "code",
   "execution_count": 10,
   "metadata": {},
   "outputs": [
    {
     "name": "stdout",
     "output_type": "stream",
     "text": [
      "All test cases passed!\n"
     ]
    }
   ],
   "source": [
    "# Helper functions to convert between list and linked list\n",
    "def list_to_linked_list(numbers):\n",
    "    \"\"\"Convert a list of integers to a linked list.\"\"\"\n",
    "    dummy_head = ListNode(0)\n",
    "    current = dummy_head\n",
    "    for number in numbers:\n",
    "        current.next = ListNode(number)\n",
    "        current = current.next\n",
    "    return dummy_head.next\n",
    "\n",
    "def linked_list_to_list(node):\n",
    "    \"\"\"Convert a linked list to a list of integers.\"\"\"\n",
    "    result = []\n",
    "    while node:\n",
    "        result.append(node.val)\n",
    "        node = node.next\n",
    "    return result\n",
    "\n",
    "def test_add_two_numbers():\n",
    "    \"\"\"Test the addTwoNumbers function with multiple test cases.\"\"\"\n",
    "    test_cases = [\n",
    "        {\"l1\": [2, 4, 3], \"l2\": [5, 6, 4], \"expected\": [7, 0, 8]},\n",
    "        {\"l1\": [0], \"l2\": [0], \"expected\": [0]},\n",
    "        {\"l1\": [9, 9, 9], \"l2\": [1], \"expected\": [0, 0, 0, 1]},\n",
    "        {\"l1\": [1, 8], \"l2\": [0], \"expected\": [1, 8]},\n",
    "        {\"l1\": [0], \"l2\": [1, 2, 3], \"expected\": [1, 2, 3]},\n",
    "    ]\n",
    "\n",
    "    for i, test_case in enumerate(test_cases):\n",
    "        # Convert input lists to linked lists\n",
    "        l1 = list_to_linked_list(test_case[\"l1\"])\n",
    "        l2 = list_to_linked_list(test_case[\"l2\"])\n",
    "        \n",
    "        # Execute the function\n",
    "        result = addTwoNumbers(l1, l2)\n",
    "        \n",
    "        # Convert the result linked list back to a list\n",
    "        result_list = linked_list_to_list(result)\n",
    "        \n",
    "        # Compare the result with the expected output\n",
    "        assert result_list == test_case[\"expected\"], f\"Test case {i+1} failed: {result_list} != {test_case['expected']}\"\n",
    "    \n",
    "    print(\"All test cases passed!\")\n",
    "\n",
    "# Run the test function\n",
    "test_add_two_numbers()"
   ]
  },
  {
   "cell_type": "markdown",
   "metadata": {},
   "source": []
  }
 ],
 "metadata": {
  "kernelspec": {
   "display_name": "awesome-env",
   "language": "python",
   "name": "python3"
  },
  "language_info": {
   "codemirror_mode": {
    "name": "ipython",
    "version": 3
   },
   "file_extension": ".py",
   "mimetype": "text/x-python",
   "name": "python",
   "nbconvert_exporter": "python",
   "pygments_lexer": "ipython3",
   "version": "3.11.10"
  }
 },
 "nbformat": 4,
 "nbformat_minor": 2
}
