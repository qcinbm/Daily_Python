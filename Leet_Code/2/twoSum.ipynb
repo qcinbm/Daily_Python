{
 "cells": [
  {
   "cell_type": "markdown",
   "metadata": {},
   "source": [
    "# Two Sum Problem"
   ]
  },
  {
   "cell_type": "markdown",
   "metadata": {},
   "source": [
    "## Problem Description\n",
    "\n",
    "Given an array of integers `nums` and an integer `target`, return *indices of the two numbers such that they add up to `target`*.  \n",
    "You may assume that each input would have **exactly one solution**, and you may not use the same element twice.  \n",
    "You can return the answer in any order.\n"
   ]
  },
  {
   "cell_type": "markdown",
   "metadata": {},
   "source": [
    "# Step-by-Step Guide to Solve the \"Two Sum\" Problem\n",
    "\n",
    "---\n"
   ]
  },
  {
   "cell_type": "markdown",
   "metadata": {},
   "source": [
    "## **1. Understand the Problem**"
   ]
  },
  {
   "cell_type": "markdown",
   "metadata": {},
   "source": [
    "### **Input**\n",
    "- An array of integers `nums`.\n",
    "- An integer `target`.\n",
    "\n",
    "### **Output**\n",
    "- A list containing two indices `[i, j]` such that:\n",
    "  - `nums[i] + nums[j] == target`.\n",
    "  - `i != j`.\n",
    "\n",
    "### **Key Constraints**\n",
    "1. There is **exactly one pair** of numbers that satisfies the condition.\n",
    "2. You cannot use the same element twice.\n",
    "3. The input size can be up to 10,000, so an efficient solution is required.\n",
    "\n",
    "---\n"
   ]
  },
  {
   "cell_type": "markdown",
   "metadata": {},
   "source": [
    "## **2. Plan the Solution**\n",
    "\n"
   ]
  },
  {
   "cell_type": "markdown",
   "metadata": {},
   "source": [
    "### **Step 1: Iterate Through the Array**\n",
    "- For each element `nums[i]`, calculate the difference:  \n",
    "  `diff = target - nums[i]`.\n",
    "\n",
    "### **Step 2: Use a Hash Map for Fast Lookups**\n",
    "- Store previously seen numbers and their indices in a hash map.\n",
    "- Check if `diff` is already in the hash map:\n",
    "  - If yes, you have found the pair.\n",
    "  - If no, add the current number and its index to the hash map.\n",
    "\n",
    "### **Step 3: Return the Result**\n",
    "- If the pair is found, return the indices `[hashmap[diff], i]`.\n",
    "\n",
    "---\n"
   ]
  },
  {
   "cell_type": "markdown",
   "metadata": {},
   "source": [
    "## **3. Pseudocode**\n"
   ]
  },
  {
   "cell_type": "markdown",
   "metadata": {},
   "source": [
    "```plaintext\n",
    "1. Create an empty hash map (hashmap = {}).\n",
    "2. Loop through the array `nums` with index `i`:\n",
    "   a. Calculate the difference: diff = target - nums[i].\n",
    "   b. If diff is in hashmap:\n",
    "      - Return [hashmap[diff], i].\n",
    "   c. Otherwise, store nums[i] in the hash map with value i.\n",
    "3. End the loop."
   ]
  },
  {
   "cell_type": "markdown",
   "metadata": {},
   "source": [
    "# Implementation"
   ]
  },
  {
   "cell_type": "code",
   "execution_count": null,
   "metadata": {},
   "outputs": [],
   "source": [
    "def twoSum(nums, target):\n",
    "    hashmap = {}\n",
    "    for i, num in enumerate(nums):\n",
    "        diff = target - num\n",
    "        if diff in hashmap:\n",
    "            return [hashmap[diff], i]\n",
    "        hashmap[num] = i\n",
    "    return None "
   ]
  },
  {
   "cell_type": "markdown",
   "metadata": {},
   "source": [
    "# Test"
   ]
  },
  {
   "cell_type": "markdown",
   "metadata": {},
   "source": [
    "\n",
    "---\n",
    "\n",
    "## **1. Test Cases**\n",
    "\n",
    "The test cases are designed to cover a variety of scenarios to ensure the `twoSum` function works correctly in all possible situations:\n",
    "\n",
    "### **Covered Scenarios:**\n",
    "- **Basic Functionality**:\n",
    "  - Ensures the function can correctly identify two numbers that add up to the target.\n",
    "- **Duplicate Numbers**:\n",
    "  - Handles cases where duplicate numbers in the array contribute to the solution.\n",
    "- **Zero Sum**:\n",
    "  - Verifies that the function works with a target sum of `0`.\n",
    "- **Negative Numbers**:\n",
    "  - Checks if the function correctly handles arrays with negative integers.\n",
    "\n",
    "---\n",
    "\n",
    "## **2. Assertion**\n",
    "\n",
    "### **Purpose of Assertion:**\n",
    "- The `assert` statement ensures the actual result from the function matches the expected output.\n",
    "- Since the order of indices `[i, j]` or `[j, i]` does not matter, the assertion checks both possible orders.\n",
    "\n",
    "### **Assertion Logic:**\n",
    "```python\n",
    "assert result == expected or result == expected[::-1]"
   ]
  },
  {
   "cell_type": "code",
   "execution_count": 5,
   "metadata": {},
   "outputs": [
    {
     "name": "stdout",
     "output_type": "stream",
     "text": [
      "Running test cases...\n",
      "\n",
      "Test case 1 passed!\n",
      "Test case 2 passed!\n",
      "Test case 3 passed!\n",
      "Test case 4 passed!\n",
      "Test case 5 passed!\n",
      "Test case 6 passed!\n",
      "\n",
      "All test cases passed!\n"
     ]
    }
   ],
   "source": [
    "def test_twoSum():\n",
    "    def twoSum(nums, target):\n",
    "        hashmap = {}\n",
    "        for i, num in enumerate(nums):\n",
    "            diff = target - num\n",
    "            if diff in hashmap:\n",
    "                return [hashmap[diff], i]\n",
    "            hashmap[num] = i\n",
    "    \n",
    "    # Test cases\n",
    "    test_cases = [\n",
    "        # Format: (input_nums, input_target, expected_output)\n",
    "        ([2, 7, 11, 15], 9, [0, 1]),       # Basic test case\n",
    "        ([3, 2, 4], 6, [1, 2]),            # Middle elements\n",
    "        ([3, 3], 6, [0, 1]),               # Duplicate elements\n",
    "        ([1, 2, 3, 4, 5], 9, [3, 4]),      # Larger input\n",
    "        ([0, 4, 3, 0], 0, [0, 3]),         # Zero sum\n",
    "        ([-1, -2, -3, -4, -5], -8, [2, 4]) # Negative numbers\n",
    "    ]\n",
    "\n",
    "    print(\"Running test cases...\\n\")\n",
    "\n",
    "    # Run test cases\n",
    "    for i, (nums, target, expected) in enumerate(test_cases, start=1):\n",
    "        result = twoSum(nums, target)\n",
    "        assert result == expected or result == expected[::-1], \\\n",
    "            f\"Test case {i} failed: Input({nums}, {target}) => Expected {expected}, Got {result}\"\n",
    "        print(f\"Test case {i} passed!\")\n",
    "\n",
    "    print(\"\\nAll test cases passed!\")\n",
    "\n",
    "# Run the test function\n",
    "test_twoSum()"
   ]
  },
  {
   "cell_type": "markdown",
   "metadata": {},
   "source": []
  }
 ],
 "metadata": {
  "kernelspec": {
   "display_name": "awesome-env",
   "language": "python",
   "name": "python3"
  },
  "language_info": {
   "codemirror_mode": {
    "name": "ipython",
    "version": 3
   },
   "file_extension": ".py",
   "mimetype": "text/x-python",
   "name": "python",
   "nbconvert_exporter": "python",
   "pygments_lexer": "ipython3",
   "version": "3.11.10"
  }
 },
 "nbformat": 4,
 "nbformat_minor": 2
}
