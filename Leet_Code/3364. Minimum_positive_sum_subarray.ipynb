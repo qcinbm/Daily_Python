{
 "cells": [
  {
   "cell_type": "markdown",
   "metadata": {},
   "source": [
    "# 3364. Minimum Positive Sum Subarray\n",
    "\n",
    "You are given an integer array `nums` and two integers `l` and `r`. Your task is to find the minimum sum of a subarray with a length in the range `[l, r]` (inclusive) and a sum greater than 0. Return the minimum sum of such a subarray. If no such subarray exists, return `-1`.\n",
    "\n",
    "## Examples\n",
    "\n",
    "**Example 1:**\n",
    "\n",
    "- **Input:** `nums = [3, -2, 1, 4]`, `l = 2`, `r = 3`\n",
    "- **Output:** 1\n",
    "- **Explanation:** The subarrays with lengths between 2 and 3 that have a sum greater than 0 are:\n",
    "  - `[3, -2]` with a sum of 1\n",
    "  - `[1, 4]` with a sum of 5\n",
    "  - `[3, -2, 1]` with a sum of 2\n",
    "  - `[-2, 1, 4]` with a sum of 3\n",
    "  Among these, the subarray `[3, -2]` has the minimum sum of 1.\n",
    "\n",
    "**Example 2:**\n",
    "\n",
    "- **Input:** `nums = [-1, -2, -3]`, `l = 1`, `r = 2`\n",
    "- **Output:** -1\n",
    "- **Explanation:** There is no subarray with a sum greater than 0.\n",
    "\n",
    "## Notes\n",
    "\n",
    "- A subarray is a contiguous non-empty sequence of elements within an array.\n",
    "- The length of the subarray must fall between `l` and `r` (inclusive), and its sum must be greater than 0 to be considered.\n",
    "\n",
    "## Reference\n",
    "\n",
    "- [LeetCode - Minimum Positive Sum Subarray](https://leetcode.com/problems/minimum-positive-sum-subarray/)"
   ]
  },
  {
   "cell_type": "code",
   "execution_count": null,
   "metadata": {
    "vscode": {
     "languageId": "plaintext"
    }
   },
   "outputs": [],
   "source": []
  }
 ],
 "metadata": {
  "language_info": {
   "name": "python"
  }
 },
 "nbformat": 4,
 "nbformat_minor": 2
}
